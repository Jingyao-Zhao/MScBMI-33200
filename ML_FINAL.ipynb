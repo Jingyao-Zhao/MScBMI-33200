{
 "cells": [
  {
   "cell_type": "markdown",
   "metadata": {},
   "source": [
    "# Machine Learning Final Project"
   ]
  },
  {
   "cell_type": "code",
   "execution_count": 1,
   "metadata": {
    "scrolled": true
   },
   "outputs": [],
   "source": [
    " #conda install -c plotly plotly=5.8.0\n",
    " #or\n",
    " #pip install plotly"
   ]
  },
  {
   "cell_type": "markdown",
   "metadata": {},
   "source": [
    "**importing the libraries**"
   ]
  },
  {
   "cell_type": "code",
   "execution_count": 58,
   "metadata": {},
   "outputs": [],
   "source": [
    "\n",
    "import numpy as np\n",
    "import matplotlib.pyplot as plt\n",
    "import plotly.express as px\n",
    "import pandas as pd\n",
    "import seaborn as sns\n",
    "import time\n",
    "from pandas import DataFrame\n",
    "\n",
    "from statsmodels.graphics.mosaicplot import mosaic\n",
    "from scipy import stats\n",
    "\n",
    "from sklearn.preprocessing import LabelEncoder\n",
    "from sklearn.model_selection import train_test_split\n",
    "from sklearn.preprocessing import StandardScaler\n",
    "from sklearn.metrics import confusion_matrix\n",
    "import sklearn.metrics as metrics\n",
    "from sklearn.model_selection import GridSearchCV\n",
    "from sklearn.metrics import accuracy_score\n",
    "from sklearn.metrics import roc_auc_score\n",
    "\n",
    "from sklearn.svm import SVC\n",
    "from sklearn.linear_model import LogisticRegression\n",
    "from sklearn.naive_bayes import GaussianNB\n",
    "from sklearn.linear_model import LogisticRegressionCV\n"
   ]
  },
  {
   "cell_type": "code",
   "execution_count": 59,
   "metadata": {},
   "outputs": [
    {
     "data": {
      "text/html": [
       "<div>\n",
       "<style scoped>\n",
       "    .dataframe tbody tr th:only-of-type {\n",
       "        vertical-align: middle;\n",
       "    }\n",
       "\n",
       "    .dataframe tbody tr th {\n",
       "        vertical-align: top;\n",
       "    }\n",
       "\n",
       "    .dataframe thead th {\n",
       "        text-align: right;\n",
       "    }\n",
       "</style>\n",
       "<table border=\"1\" class=\"dataframe\">\n",
       "  <thead>\n",
       "    <tr style=\"text-align: right;\">\n",
       "      <th></th>\n",
       "      <th>Patient_ID</th>\n",
       "      <th>Age</th>\n",
       "      <th>Gender</th>\n",
       "      <th>Protein1</th>\n",
       "      <th>Protein2</th>\n",
       "      <th>Protein3</th>\n",
       "      <th>Protein4</th>\n",
       "      <th>Tumour_Stage</th>\n",
       "      <th>Histology</th>\n",
       "      <th>ER status</th>\n",
       "      <th>PR status</th>\n",
       "      <th>HER2 status</th>\n",
       "      <th>Surgery_type</th>\n",
       "      <th>Date_of_Surgery</th>\n",
       "      <th>Date_of_Last_Visit</th>\n",
       "      <th>Patient_Status</th>\n",
       "    </tr>\n",
       "  </thead>\n",
       "  <tbody>\n",
       "    <tr>\n",
       "      <th>0</th>\n",
       "      <td>TCGA-D8-A1XD</td>\n",
       "      <td>36</td>\n",
       "      <td>FEMALE</td>\n",
       "      <td>0.080353</td>\n",
       "      <td>0.42638</td>\n",
       "      <td>0.54715</td>\n",
       "      <td>0.273680</td>\n",
       "      <td>III</td>\n",
       "      <td>Infiltrating Ductal Carcinoma</td>\n",
       "      <td>Positive</td>\n",
       "      <td>Positive</td>\n",
       "      <td>Negative</td>\n",
       "      <td>Modified Radical Mastectomy</td>\n",
       "      <td>15-Jan-17</td>\n",
       "      <td>19-Jun-17</td>\n",
       "      <td>Alive</td>\n",
       "    </tr>\n",
       "    <tr>\n",
       "      <th>1</th>\n",
       "      <td>TCGA-EW-A1OX</td>\n",
       "      <td>43</td>\n",
       "      <td>FEMALE</td>\n",
       "      <td>-0.420320</td>\n",
       "      <td>0.57807</td>\n",
       "      <td>0.61447</td>\n",
       "      <td>-0.031505</td>\n",
       "      <td>II</td>\n",
       "      <td>Mucinous Carcinoma</td>\n",
       "      <td>Positive</td>\n",
       "      <td>Positive</td>\n",
       "      <td>Negative</td>\n",
       "      <td>Lumpectomy</td>\n",
       "      <td>26-Apr-17</td>\n",
       "      <td>9-Nov-18</td>\n",
       "      <td>Dead</td>\n",
       "    </tr>\n",
       "    <tr>\n",
       "      <th>2</th>\n",
       "      <td>TCGA-A8-A079</td>\n",
       "      <td>69</td>\n",
       "      <td>FEMALE</td>\n",
       "      <td>0.213980</td>\n",
       "      <td>1.31140</td>\n",
       "      <td>-0.32747</td>\n",
       "      <td>-0.234260</td>\n",
       "      <td>III</td>\n",
       "      <td>Infiltrating Ductal Carcinoma</td>\n",
       "      <td>Positive</td>\n",
       "      <td>Positive</td>\n",
       "      <td>Negative</td>\n",
       "      <td>Other</td>\n",
       "      <td>8-Sep-17</td>\n",
       "      <td>9-Jun-18</td>\n",
       "      <td>Alive</td>\n",
       "    </tr>\n",
       "    <tr>\n",
       "      <th>3</th>\n",
       "      <td>TCGA-D8-A1XR</td>\n",
       "      <td>56</td>\n",
       "      <td>FEMALE</td>\n",
       "      <td>0.345090</td>\n",
       "      <td>-0.21147</td>\n",
       "      <td>-0.19304</td>\n",
       "      <td>0.124270</td>\n",
       "      <td>II</td>\n",
       "      <td>Infiltrating Ductal Carcinoma</td>\n",
       "      <td>Positive</td>\n",
       "      <td>Positive</td>\n",
       "      <td>Negative</td>\n",
       "      <td>Modified Radical Mastectomy</td>\n",
       "      <td>25-Jan-17</td>\n",
       "      <td>12-Jul-17</td>\n",
       "      <td>Alive</td>\n",
       "    </tr>\n",
       "    <tr>\n",
       "      <th>4</th>\n",
       "      <td>TCGA-BH-A0BF</td>\n",
       "      <td>56</td>\n",
       "      <td>FEMALE</td>\n",
       "      <td>0.221550</td>\n",
       "      <td>1.90680</td>\n",
       "      <td>0.52045</td>\n",
       "      <td>-0.311990</td>\n",
       "      <td>II</td>\n",
       "      <td>Infiltrating Ductal Carcinoma</td>\n",
       "      <td>Positive</td>\n",
       "      <td>Positive</td>\n",
       "      <td>Negative</td>\n",
       "      <td>Other</td>\n",
       "      <td>6-May-17</td>\n",
       "      <td>27-Jun-19</td>\n",
       "      <td>Dead</td>\n",
       "    </tr>\n",
       "  </tbody>\n",
       "</table>\n",
       "</div>"
      ],
      "text/plain": [
       "     Patient_ID  Age  Gender  Protein1  Protein2  Protein3  Protein4  \\\n",
       "0  TCGA-D8-A1XD   36  FEMALE  0.080353   0.42638   0.54715  0.273680   \n",
       "1  TCGA-EW-A1OX   43  FEMALE -0.420320   0.57807   0.61447 -0.031505   \n",
       "2  TCGA-A8-A079   69  FEMALE  0.213980   1.31140  -0.32747 -0.234260   \n",
       "3  TCGA-D8-A1XR   56  FEMALE  0.345090  -0.21147  -0.19304  0.124270   \n",
       "4  TCGA-BH-A0BF   56  FEMALE  0.221550   1.90680   0.52045 -0.311990   \n",
       "\n",
       "  Tumour_Stage                      Histology ER status PR status HER2 status  \\\n",
       "0          III  Infiltrating Ductal Carcinoma  Positive  Positive    Negative   \n",
       "1           II             Mucinous Carcinoma  Positive  Positive    Negative   \n",
       "2          III  Infiltrating Ductal Carcinoma  Positive  Positive    Negative   \n",
       "3           II  Infiltrating Ductal Carcinoma  Positive  Positive    Negative   \n",
       "4           II  Infiltrating Ductal Carcinoma  Positive  Positive    Negative   \n",
       "\n",
       "                  Surgery_type Date_of_Surgery Date_of_Last_Visit  \\\n",
       "0  Modified Radical Mastectomy       15-Jan-17          19-Jun-17   \n",
       "1                   Lumpectomy       26-Apr-17           9-Nov-18   \n",
       "2                        Other        8-Sep-17           9-Jun-18   \n",
       "3  Modified Radical Mastectomy       25-Jan-17          12-Jul-17   \n",
       "4                        Other        6-May-17          27-Jun-19   \n",
       "\n",
       "  Patient_Status  \n",
       "0          Alive  \n",
       "1           Dead  \n",
       "2          Alive  \n",
       "3          Alive  \n",
       "4           Dead  "
      ]
     },
     "execution_count": 59,
     "metadata": {},
     "output_type": "execute_result"
    }
   ],
   "source": [
    "#importing our cancer dataset\n",
    "dataset = pd.read_csv('BRCA.csv')\n",
    "dataset.head()"
   ]
  },
  {
   "cell_type": "code",
   "execution_count": 60,
   "metadata": {},
   "outputs": [
    {
     "name": "stdout",
     "output_type": "stream",
     "text": [
      "<class 'pandas.core.frame.DataFrame'>\n",
      "Int64Index: 8876 entries, 0 to 9351\n",
      "Data columns (total 16 columns):\n",
      " #   Column              Non-Null Count  Dtype  \n",
      "---  ------              --------------  -----  \n",
      " 0   Patient_ID          8876 non-null   object \n",
      " 1   Age                 8876 non-null   int64  \n",
      " 2   Gender              8876 non-null   object \n",
      " 3   Protein1            8876 non-null   float64\n",
      " 4   Protein2            8876 non-null   float64\n",
      " 5   Protein3            8876 non-null   float64\n",
      " 6   Protein4            8876 non-null   float64\n",
      " 7   Tumour_Stage        8876 non-null   object \n",
      " 8   Histology           8876 non-null   object \n",
      " 9   ER status           8876 non-null   object \n",
      " 10  PR status           8876 non-null   object \n",
      " 11  HER2 status         8876 non-null   object \n",
      " 12  Surgery_type        8876 non-null   object \n",
      " 13  Date_of_Surgery     8876 non-null   object \n",
      " 14  Date_of_Last_Visit  8876 non-null   object \n",
      " 15  Patient_Status      8876 non-null   object \n",
      "dtypes: float64(4), int64(1), object(11)\n",
      "memory usage: 1.2+ MB\n"
     ]
    }
   ],
   "source": [
    "#Drop NA \n",
    "dataset = dataset.dropna()\n",
    "dataset.info()"
   ]
  },
  {
   "cell_type": "markdown",
   "metadata": {
    "tags": []
   },
   "source": [
    "## Data Cleaning "
   ]
  },
  {
   "cell_type": "markdown",
   "metadata": {},
   "source": [
    "**Drop irrelevant features and categorize some features**"
   ]
  },
  {
   "cell_type": "code",
   "execution_count": 61,
   "metadata": {},
   "outputs": [
    {
     "name": "stdout",
     "output_type": "stream",
     "text": [
      "<class 'pandas.core.frame.DataFrame'>\n",
      "Int64Index: 8876 entries, 0 to 9351\n",
      "Data columns (total 12 columns):\n",
      " #   Column          Non-Null Count  Dtype  \n",
      "---  ------          --------------  -----  \n",
      " 0   Patient_ID      8876 non-null   object \n",
      " 1   Age             8876 non-null   int64  \n",
      " 2   Gender          8876 non-null   int64  \n",
      " 3   Protein1        8876 non-null   float64\n",
      " 4   Protein2        8876 non-null   float64\n",
      " 5   Protein3        8876 non-null   float64\n",
      " 6   Protein4        8876 non-null   float64\n",
      " 7   Tumour_Stage    8876 non-null   int64  \n",
      " 8   Histology       8876 non-null   int64  \n",
      " 9   HER2 status     8876 non-null   int64  \n",
      " 10  Surgery_type    8876 non-null   int64  \n",
      " 11  Patient_Status  8876 non-null   int64  \n",
      "dtypes: float64(4), int64(7), object(1)\n",
      "memory usage: 901.5+ KB\n"
     ]
    }
   ],
   "source": [
    "dataset = dataset.drop(['ER status','PR status','Date_of_Surgery','Date_of_Last_Visit'],axis=1)\n",
    "#ER:estrogen receptors\n",
    "#PR: progesterone receptors\n",
    "#ER & PR are all positive in our dataset\n",
    "#dead = 0; alive = 1\n",
    "dataset = dataset.replace(['Alive','Dead'],[1,0])\n",
    "#Categorize data \n",
    "labelencoder_Y = LabelEncoder()\n",
    "dataset['Gender'] = labelencoder_Y.fit_transform(dataset['Gender'])\n",
    "dataset['Tumour_Stage'] = labelencoder_Y.fit_transform(dataset['Tumour_Stage'])\n",
    "dataset['Histology'] = labelencoder_Y.fit_transform(dataset['Histology'])\n",
    "dataset['HER2 status'] = labelencoder_Y.fit_transform(dataset['HER2 status'])\n",
    "dataset['Surgery_type'] = labelencoder_Y.fit_transform(dataset['Surgery_type'])\n",
    "\n",
    "#Dropped patient id\n",
    "X = dataset.drop(['Patient_ID','Patient_Status'],axis=1)\n",
    "Y = dataset['Patient_Status']\n",
    "\n",
    "dataset.info()"
   ]
  },
  {
   "cell_type": "code",
   "execution_count": 62,
   "metadata": {},
   "outputs": [
    {
     "data": {
      "text/plain": [
       "Patient_ID        0\n",
       "Age               0\n",
       "Gender            0\n",
       "Protein1          0\n",
       "Protein2          0\n",
       "Protein3          0\n",
       "Protein4          0\n",
       "Tumour_Stage      0\n",
       "Histology         0\n",
       "HER2 status       0\n",
       "Surgery_type      0\n",
       "Patient_Status    0\n",
       "dtype: int64"
      ]
     },
     "execution_count": 62,
     "metadata": {},
     "output_type": "execute_result"
    }
   ],
   "source": [
    "#Check there is null or na\n",
    "dataset.isnull().sum()\n",
    "dataset.isna().sum()"
   ]
  },
  {
   "cell_type": "markdown",
   "metadata": {},
   "source": [
    "## EDA"
   ]
  },
  {
   "cell_type": "code",
   "execution_count": 63,
   "metadata": {},
   "outputs": [
    {
     "data": {
      "image/png": "[encoded data removed]",
      "text/plain": [
       "<Figure size 720x288 with 1 Axes>"
      ]
     },
     "metadata": {
      "needs_background": "light"
     },
     "output_type": "display_data"
    },
    {
     "data": {
      "image/png": "[encoded data removed]",
      "text/plain": [
       "<Figure size 720x288 with 1 Axes>"
      ]
     },
     "metadata": {
      "needs_background": "light"
     },
     "output_type": "display_data"
    },
    {
     "data": {
      "image/png": "[encoded data removed]",
      "text/plain": [
       "<Figure size 720x288 with 1 Axes>"
      ]
     },
     "metadata": {
      "needs_background": "light"
     },
     "output_type": "display_data"
    },
    {
     "data": {
      "image/png": "[encoded data removed]",
      "text/plain": [
       "<Figure size 720x288 with 1 Axes>"
      ]
     },
     "metadata": {
      "needs_background": "light"
     },
     "output_type": "display_data"
    }
   ],
   "source": [
    "#Catogorical features histogram \n",
    "features_cat = ['Tumour_Stage', 'Histology','HER2 status', 'Surgery_type']\n",
    "\n",
    "for f in features_cat:\n",
    "    plt.figure(figsize=(10,4))\n",
    "    dataset[f].value_counts().plot(kind='bar')\n",
    "    plt.title(f)\n",
    "    plt.grid()\n",
    "    plt.show()"
   ]
  },
  {
   "cell_type": "code",
   "execution_count": 64,
   "metadata": {},
   "outputs": [
    {
     "data": {
      "image/png": "[encoded data removed]",
      "text/plain": [
       "<Figure size 432x288 with 1 Axes>"
      ]
     },
     "metadata": {
      "needs_background": "light"
     },
     "output_type": "display_data"
    },
    {
     "data": {
      "image/png": "[encoded data removed]",
      "text/plain": [
       "<Figure size 432x288 with 1 Axes>"
      ]
     },
     "metadata": {
      "needs_background": "light"
     },
     "output_type": "display_data"
    },
    {
     "data": {
      "image/png": "[encoded data removed]",
      "text/plain": [
       "<Figure size 432x288 with 1 Axes>"
      ]
     },
     "metadata": {
      "needs_background": "light"
     },
     "output_type": "display_data"
    },
    {
     "data": {
      "image/png": "[encoded data removed]",
      "text/plain": [
       "<Figure size 432x288 with 1 Axes>"
      ]
     },
     "metadata": {
      "needs_background": "light"
     },
     "output_type": "display_data"
    },
    {
     "data": {
      "image/png": "[encoded data removed]",
      "text/plain": [
       "<Figure size 432x288 with 1 Axes>"
      ]
     },
     "metadata": {
      "needs_background": "light"
     },
     "output_type": "display_data"
    }
   ],
   "source": [
    "#Plot distribution of numerical features\n",
    "features_num = ['Age', 'Protein1', 'Protein2', 'Protein3', 'Protein4']\n",
    "dataset[features_num].describe()\n",
    "for f in features_num:\n",
    "    dataset[f].plot(kind='hist', bins=30)\n",
    "    plt.title(f)\n",
    "    plt.grid()\n",
    "    plt.show()\n",
    "    "
   ]
  },
  {
   "cell_type": "code",
   "execution_count": 65,
   "metadata": {
    "scrolled": true
   },
   "outputs": [],
   "source": [
    "#In order to avoid undermine statistical significance of independent variables, \n",
    "#doing feature correlation plots shows there is no strong association between predictors"
   ]
  },
  {
   "cell_type": "code",
   "execution_count": 66,
   "metadata": {},
   "outputs": [
    {
     "data": {
      "image/png": "[encoded data removed]",
      "text/plain": [
       "<Figure size 576x432 with 2 Axes>"
      ]
     },
     "metadata": {
      "needs_background": "light"
     },
     "output_type": "display_data"
    }
   ],
   "source": [
    "#Do a correlation for numerical features\n",
    "corr_pearson = dataset[features_num].corr(method='pearson')\n",
    "\n",
    "\n",
    "fig = plt.figure(figsize = (8,6))\n",
    "sns.heatmap(corr_pearson, annot=True, cmap='RdYlGn', vmin=-1, vmax=+1)\n",
    "plt.title('Pearson Correlation')\n",
    "plt.show()\n",
    "\n"
   ]
  },
  {
   "cell_type": "code",
   "execution_count": 67,
   "metadata": {},
   "outputs": [],
   "source": [
    "# Protein levels by cancer types\n",
    "type_slices = dataset[['Histology', 'Protein1', 'Protein2', 'Protein3', 'Protein4']]"
   ]
  },
  {
   "cell_type": "code",
   "execution_count": 68,
   "metadata": {
    "scrolled": true
   },
   "outputs": [],
   "source": [
    "idc = type_slices.loc[type_slices['Histology'] == 0][['Protein1','Protein2','Protein3','Protein4']]\n",
    "ilc = type_slices.loc[type_slices['Histology'] == 1][['Protein1','Protein2','Protein3','Protein4']]\n",
    "mcc = type_slices.loc[type_slices['Histology'] == 2][['Protein1','Protein2','Protein3','Protein4']]"
   ]
  },
  {
   "cell_type": "code",
   "execution_count": 69,
   "metadata": {},
   "outputs": [
    {
     "data": {
      "image/png": "[encoded data removed]",
      "text/plain": [
       "<Figure size 1440x1080 with 3 Axes>"
      ]
     },
     "metadata": {
      "needs_background": "light"
     },
     "output_type": "display_data"
    }
   ],
   "source": [
    "\n",
    "fig = plt.figure(figsize = (20,15))\n",
    "\n",
    "# for the first, leftmost subplot\n",
    "plt.subplot(1,3,1)\n",
    "idc_boxes = plt.boxplot([list(idc[t]) for t in idc], labels = list(idc.columns), patch_artist = True)\n",
    "\n",
    "# setting the colors for the boxplot\n",
    "for box in idc_boxes['boxes']:\n",
    "    # set edge color\n",
    "    box.set(color = 'green', linewidth = 2)\n",
    "    \n",
    "    # set fill color\n",
    "    box.set(facecolor = 'green')\n",
    "# setting range of yticks and the labels\n",
    "plt.yticks(np.arange(-3, 4, 0.5))\n",
    "plt.xlabel('Infiltrating Ductal Carcinoma', fontsize = 20)\n",
    "\n",
    "\n",
    "# we repeat the process for the other two subplots\n",
    "plt.subplot(1,3,2)    \n",
    "    \n",
    "ilc_boxes = plt.boxplot([list(ilc[t]) for t in ilc], labels = list(ilc.columns), patch_artist = True)\n",
    "\n",
    "for box in ilc_boxes['boxes']:\n",
    "    # set edge color\n",
    "    box.set(color = 'blue', linewidth = 2)\n",
    "    \n",
    "    # set fill color\n",
    "    box.set(facecolor = 'blue')\n",
    "plt.yticks(np.arange(-3, 4, 0.5))\n",
    "plt.xlabel('Infiltrating Lobular Carcinoma', fontsize = 20)\n",
    "\n",
    "\n",
    "\n",
    "plt.subplot(1,3,3)\n",
    "\n",
    "mcc_boxes = plt.boxplot([list(mcc[t]) for t in mcc], labels = list(mcc.columns), patch_artist = True)\n",
    "\n",
    "for box in mcc_boxes['boxes']:\n",
    "    # set edge color\n",
    "    box.set(color = 'orange', linewidth = 2)\n",
    "    \n",
    "    # set fill color\n",
    "    box.set(facecolor = 'orange')\n",
    "plt.yticks(np.arange(-3, 4, 0.5))\n",
    "plt.xlabel('Mucinous Carcinoma', fontdict = {'fontsize':20})\n",
    "\n",
    "\n",
    "# finally, we put in the title and labels for the overall figure\n",
    "fig.suptitle('Marker protein profiles for each cancer type', fontsize = 30)\n",
    "#fig.supxlabel('Marker Proteins', fontsize = 20)\n",
    "fig.supylabel('Range of marker protein level', fontsize = 20)\n",
    "fig.tight_layout(pad = 2)\n",
    "\n",
    "plt.show()\n"
   ]
  },
  {
   "cell_type": "code",
   "execution_count": 70,
   "metadata": {},
   "outputs": [],
   "source": [
    "#Protein 2 has the highest protein mean value in all types of breast-cancer.\n",
    "#Also proved same results in later feature importance analysis. \n"
   ]
  },
  {
   "cell_type": "markdown",
   "metadata": {
    "tags": []
   },
   "source": [
    "## Models Selection\n"
   ]
  },
  {
   "cell_type": "code",
   "execution_count": 52,
   "metadata": {},
   "outputs": [],
   "source": [
    "#Split data \n",
    "X_train, X_test, Y_train, Y_test = train_test_split(X, Y, test_size = 0.2, random_state = 0)"
   ]
  },
  {
   "cell_type": "code",
   "execution_count": 53,
   "metadata": {},
   "outputs": [],
   "source": [
    "#Feature Scaling\n",
    "sc = StandardScaler()\n",
    "X_train = sc.fit_transform(X_train)\n",
    "X_test = sc.transform(X_test)\n",
    "res = []\n",
    "method = []"
   ]
  },
  {
   "cell_type": "code",
   "execution_count": 57,
   "metadata": {},
   "outputs": [
    {
     "name": "stdout",
     "output_type": "stream",
     "text": [
      "Test set AUC score Logistic Regression: 0.500000\n",
      "AccLR: 0.796875\n"
     ]
    }
   ],
   "source": [
    "#Using Logistic Regression Algorithm to the Training Set\n",
    "\n",
    "classifier = LogisticRegression(random_state = 0)\n",
    "classifier.fit(X_train, Y_train)\n",
    "Y_pred = classifier.predict(X_test)\n",
    "\n",
    "print(\"Test set AUC score Logistic Regression: %f\" % roc_auc_score(Y_test,Y_pred))\n",
    "cmLR = confusion_matrix(Y_test, Y_pred)\n",
    "AccLR = (cmLR[0][0]+cmLR[1][1])/sum(sum(cmLR))\n",
    "method.append('Logistic Regression')\n",
    "res.append(AccLR)\n",
    "print(\"AccLR: %f\" %AccLR)\n"
   ]
  },
  {
   "cell_type": "code",
   "execution_count": 15,
   "metadata": {},
   "outputs": [
    {
     "name": "stdout",
     "output_type": "stream",
     "text": [
      "Test set AUC score of expanded model of Logistic Regression w regularization: 0.524887\n",
      "AccEM: 0.796875\n"
     ]
    }
   ],
   "source": [
    "#Run Logistic Regression on full feature set as Expanded Model, WITH regularization\n",
    "\n",
    "#Will use original Train/Test split\n",
    "\n",
    "logmodelfull_l1 = LogisticRegression(penalty='elasticnet', solver='saga', l1_ratio=0.50, max_iter=10000)\n",
    "logmodelfull_l1.fit(X_train,Y_train)\n",
    "\n",
    "# AUC value\n",
    "logmod_full_l1_pred = logmodelfull_l1.predict_proba(X_test)\n",
    "print(\"Test set AUC score of expanded model of Logistic Regression w regularization: %f\" %roc_auc_score(Y_test, logmod_full_l1_pred[:,1]))\n",
    "#Accuracy data\n",
    "cmEM = confusion_matrix(Y_test, Y_pred)\n",
    "AccEM = (cmLR[0][0]+cmLR[1][1])/sum(sum(cmLR))\n",
    "method.append('Logistic Regression')\n",
    "res.append(AccEM)\n",
    "print(\"AccEM: %f\" %AccEM)"
   ]
  },
  {
   "cell_type": "code",
   "execution_count": 16,
   "metadata": {},
   "outputs": [
    {
     "name": "stdout",
     "output_type": "stream",
     "text": [
      "Test set AUC score KNeighborsClassifier: 0.499246\n",
      "AccKN : 0.750000\n"
     ]
    }
   ],
   "source": [
    "#Using KNeighborsClassifier Method of neighbors class to use Nearest Neighbor algorithm\n",
    "from sklearn.neighbors import KNeighborsClassifier\n",
    "classifier = KNeighborsClassifier(n_neighbors = 5, metric = 'minkowski', p = 2)\n",
    "classifier.fit(X_train, Y_train)\n",
    "Y_pred = classifier.predict(X_test)\n",
    "#AUC value\n",
    "print(\"Test set AUC score KNeighborsClassifier: %f\" % roc_auc_score(Y_test,Y_pred))\n",
    "#Accuracy value \n",
    "cmKN = confusion_matrix(Y_test, Y_pred)\n",
    "AccKN = (cmKN[0][0]+cmKN[1][1])/sum(sum(cmKN))\n",
    "method.append('KNeighborsClassifier')\n",
    "res.append(AccKN)\n",
    "print(\"AccKN : %f\" %AccKN)"
   ]
  },
  {
   "cell_type": "code",
   "execution_count": 17,
   "metadata": {},
   "outputs": [
    {
     "name": "stdout",
     "output_type": "stream",
     "text": [
      "Test set AUC score SVC (Support Vector Machine Algorithm) : 0.500000\n",
      "AccSVCL : 0.796875\n"
     ]
    }
   ],
   "source": [
    "#Using SVC method of svm class to use Support Vector Machine Algorithm\n",
    "\n",
    "classifier = SVC(kernel = 'linear', random_state = 0)\n",
    "classifier.fit(X_train, Y_train)\n",
    "Y_pred = classifier.predict(X_test)\n",
    "#AUC value \n",
    "print(\"Test set AUC score SVC (Support Vector Machine Algorithm) : %f\" % roc_auc_score(Y_test,Y_pred))\n",
    "#Accuracy value \n",
    "cmSVCL = confusion_matrix(Y_test, Y_pred)\n",
    "AccSVCL = (cmSVCL[0][0]+cmSVCL[1][1])/sum(sum(cmSVCL))\n",
    "method.append('SVC method linear')\n",
    "res.append(AccSVCL)\n",
    "\n",
    "print(\"AccSVCL : %f\" %AccSVCL)"
   ]
  },
  {
   "cell_type": "code",
   "execution_count": 18,
   "metadata": {},
   "outputs": [
    {
     "name": "stdout",
     "output_type": "stream",
     "text": [
      "Test set AUC score SVC (Kernel SVM Algorithm): 0.500000\n",
      "AccSVCr : 0.796875\n"
     ]
    }
   ],
   "source": [
    "#Using SVC method of svm class to use Kernel SVM Algorithm\n",
    "from sklearn.svm import SVC\n",
    "classifier = SVC(kernel = 'rbf', random_state = 0)\n",
    "classifier.fit(X_train, Y_train)\n",
    "Y_pred = classifier.predict(X_test)\n",
    "#AUC value \n",
    "print(\"Test set AUC score SVC (Kernel SVM Algorithm): %f\" % roc_auc_score(Y_test,Y_pred))\n",
    "#ACCURACY VALUE \n",
    "cmSVCr = confusion_matrix(Y_test, Y_pred)\n",
    "AccSVCr = (cmSVCr[0][0]+cmSVCr[1][1])/sum(sum(cmSVCr))\n",
    "method.append('SVC method rbf')\n",
    "res.append(AccSVCr)\n",
    "print(\"AccSVCr : %f\" %AccSVCr)"
   ]
  },
  {
   "cell_type": "code",
   "execution_count": 20,
   "metadata": {},
   "outputs": [
    {
     "name": "stdout",
     "output_type": "stream",
     "text": [
      "Test set AUC score DecisionTreeClassifier: 0.633484\n",
      "AccDT : 0.781250\n"
     ]
    }
   ],
   "source": [
    "#Using DecisionTreeClassifier of tree class to use Decision Tree Algorithm\n",
    "from sklearn.tree import DecisionTreeClassifier\n",
    "classifier = DecisionTreeClassifier(criterion = 'entropy', random_state = 0)\n",
    "classifier.fit(X_train, Y_train)\n",
    "Y_pred = classifier.predict(X_test)\n",
    "#AUC value \n",
    "print(\"Test set AUC score DecisionTreeClassifier: %f\" % roc_auc_score(Y_test,Y_pred))\n",
    "cmDT = confusion_matrix(Y_test, Y_pred)\n",
    "AccDT = (cmDT[0][0]+cmDT[1][1])/sum(sum(cmDT))\n",
    "method.append('DecisionTreeClassifier')\n",
    "res.append(AccDT)\n",
    "#ACCURACY \n",
    "print(\"AccDT : %f\" %AccDT)"
   ]
  },
  {
   "cell_type": "code",
   "execution_count": 21,
   "metadata": {},
   "outputs": [
    {
     "name": "stdout",
     "output_type": "stream",
     "text": [
      "Test set AUC score RandomForestClassifier: 0.470588\n",
      "AccRF : 0.750000\n"
     ]
    }
   ],
   "source": [
    "#Using RandomForestClassifier method of ensemble class to use Random Forest Classification algorithm\n",
    "from sklearn.ensemble import RandomForestClassifier\n",
    "classifier = RandomForestClassifier(n_estimators = 10, criterion = 'entropy', random_state = 0)\n",
    "classifier.fit(X_train, Y_train)\n",
    "Y_pred = classifier.predict(X_test)\n",
    "#AUC VALUE \n",
    "print(\"Test set AUC score RandomForestClassifier: %f\" % roc_auc_score(Y_test,Y_pred))\n",
    "#ACCURACY \n",
    "cmRF = confusion_matrix(Y_test, Y_pred)\n",
    "AccRF = (cmRF[0][0]+cmRF[1][1])/sum(sum(cmRF))\n",
    "method.append('RandomForestClassifier')\n",
    "res.append(AccRF)\n",
    "print(\"AccRF : %f\" %AccRF)\n"
   ]
  },
  {
   "cell_type": "markdown",
   "metadata": {},
   "source": [
    "## The Feature Importance"
   ]
  },
  {
   "cell_type": "code",
   "execution_count": 22,
   "metadata": {},
   "outputs": [
    {
     "name": "stdout",
     "output_type": "stream",
     "text": [
      "RandomForest max_features:  auto\n"
     ]
    },
    {
     "data": {
      "text/html": [
       "<div>\n",
       "<style scoped>\n",
       "    .dataframe tbody tr th:only-of-type {\n",
       "        vertical-align: middle;\n",
       "    }\n",
       "\n",
       "    .dataframe tbody tr th {\n",
       "        vertical-align: top;\n",
       "    }\n",
       "\n",
       "    .dataframe thead th {\n",
       "        text-align: right;\n",
       "    }\n",
       "</style>\n",
       "<table border=\"1\" class=\"dataframe\">\n",
       "  <thead>\n",
       "    <tr style=\"text-align: right;\">\n",
       "      <th></th>\n",
       "      <th>feature</th>\n",
       "      <th>importance</th>\n",
       "    </tr>\n",
       "  </thead>\n",
       "  <tbody>\n",
       "    <tr>\n",
       "      <th>3</th>\n",
       "      <td>Protein2</td>\n",
       "      <td>0.181473</td>\n",
       "    </tr>\n",
       "    <tr>\n",
       "      <th>5</th>\n",
       "      <td>Protein4</td>\n",
       "      <td>0.177755</td>\n",
       "    </tr>\n",
       "    <tr>\n",
       "      <th>0</th>\n",
       "      <td>Age</td>\n",
       "      <td>0.175736</td>\n",
       "    </tr>\n",
       "    <tr>\n",
       "      <th>4</th>\n",
       "      <td>Protein3</td>\n",
       "      <td>0.168822</td>\n",
       "    </tr>\n",
       "    <tr>\n",
       "      <th>2</th>\n",
       "      <td>Protein1</td>\n",
       "      <td>0.125907</td>\n",
       "    </tr>\n",
       "    <tr>\n",
       "      <th>9</th>\n",
       "      <td>Surgery_type</td>\n",
       "      <td>0.069153</td>\n",
       "    </tr>\n",
       "    <tr>\n",
       "      <th>6</th>\n",
       "      <td>Tumour_Stage</td>\n",
       "      <td>0.054318</td>\n",
       "    </tr>\n",
       "    <tr>\n",
       "      <th>7</th>\n",
       "      <td>Histology</td>\n",
       "      <td>0.033949</td>\n",
       "    </tr>\n",
       "    <tr>\n",
       "      <th>8</th>\n",
       "      <td>HER2 status</td>\n",
       "      <td>0.009962</td>\n",
       "    </tr>\n",
       "    <tr>\n",
       "      <th>1</th>\n",
       "      <td>Gender</td>\n",
       "      <td>0.002926</td>\n",
       "    </tr>\n",
       "  </tbody>\n",
       "</table>\n",
       "</div>"
      ],
      "text/plain": [
       "        feature  importance\n",
       "3      Protein2    0.181473\n",
       "5      Protein4    0.177755\n",
       "0           Age    0.175736\n",
       "4      Protein3    0.168822\n",
       "2      Protein1    0.125907\n",
       "9  Surgery_type    0.069153\n",
       "6  Tumour_Stage    0.054318\n",
       "7     Histology    0.033949\n",
       "8   HER2 status    0.009962\n",
       "1        Gender    0.002926"
      ]
     },
     "execution_count": 22,
     "metadata": {},
     "output_type": "execute_result"
    }
   ],
   "source": [
    "## The feature importance corresponds to each feature\n",
    "print(\"RandomForest max_features: \", classifier.max_features)\n",
    "classifier.feature_importances_\n",
    "X_col_names = X.columns\n",
    "feat_imp_df = pd.DataFrame({'feature': X_col_names\n",
    "                              ,'importance': classifier.feature_importances_})\\\n",
    "                            .sort_values('importance', ascending=False)\n",
    "feat_imp_df"
   ]
  },
  {
   "cell_type": "code",
   "execution_count": 23,
   "metadata": {},
   "outputs": [
    {
     "data": {
      "text/plain": [
       "[Text(0.5, 1.0, 'Feature Importance')]"
      ]
     },
     "execution_count": 23,
     "metadata": {},
     "output_type": "execute_result"
    },
    {
     "data": {
      "image/png": "[encoded data removed]",
      "text/plain": [
       "<Figure size 432x288 with 1 Axes>"
      ]
     },
     "metadata": {
      "needs_background": "light"
     },
     "output_type": "display_data"
    }
   ],
   "source": [
    "#plt.figure(figsize(15,20))\n",
    "sns.barplot(x=feat_imp_df['importance']\n",
    "            , y=feat_imp_df['feature']\n",
    "            , color='purple').set(title=\"Feature Importance\")"
   ]
  },
  {
   "cell_type": "markdown",
   "metadata": {},
   "source": [
    "By comparing the error metrics of models and due to the skewed characteristic of the dataset, instead of focusing on accuracy, I depend on four other metrics to figure the best performed model which is decision trees and it has 0.63 AUC, 0.85 precision, 0.88 recall and 0.87 F1 score.\n",
    "\n",
    "And we found all four protein type and age are top five important features.\n"
   ]
  },
  {
   "cell_type": "code",
   "execution_count": null,
   "metadata": {},
   "outputs": [],
   "source": []
  }
 ],
 "metadata": {
  "interpreter": {
   "hash": "76f34628d98c92fc7a23f493ca89d0faab09d04daa85172c63a2f09a1d560c3c"
  },
  "kernelspec": {
   "display_name": "Python 3 (ipykernel)",
   "language": "python",
   "name": "python3"
  },
  "language_info": {
   "codemirror_mode": {
    "name": "ipython",
    "version": 3
   },
   "file_extension": ".py",
   "mimetype": "text/x-python",
   "name": "python",
   "nbconvert_exporter": "python",
   "pygments_lexer": "ipython3",
   "version": "3.9.7"
  }
 },
 "nbformat": 4,
 "nbformat_minor": 4
}
